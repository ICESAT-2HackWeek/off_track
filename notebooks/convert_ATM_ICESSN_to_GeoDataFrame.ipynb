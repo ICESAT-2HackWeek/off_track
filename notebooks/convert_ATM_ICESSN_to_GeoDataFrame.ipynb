{
 "cells": [
  {
   "cell_type": "markdown",
   "id": "d1d531ce-8a2f-4b33-a334-b0b0ba3e4bdc",
   "metadata": {},
   "source": [
    "# Convert ATM ICESSN v2 format to GeoDataFrames and GeoDataPackages with fractional year"
   ]
  },
  {
   "cell_type": "markdown",
   "id": "6bee872d-18f9-4351-80ac-508f6cd64c9c",
   "metadata": {},
   "source": [
    "The NASA Airborne Topographic Mapper (ATM) ICESSNv2 data contains resampled and smoothed elevation measurements from ATM's airborne lidar instruments.  \n",
    "All data are freely available from the National Snow and Ice Data Center (data set ID: ILATM2).  \n",
    "Download data: https://nsidc.org/data/ilatm2/versions/2  \n",
    "DOI: 10.5067/CPRXXK3F39RV\n",
    "\n",
    "**Note**: fractional years are truncated to the day of the survey without HH:MM:SS information. UTC seconds past midnight are preserved in the converted GPKG files and can be used to create UTC-based timetags for each platelet."
   ]
  },
  {
   "cell_type": "code",
   "execution_count": 1,
   "id": "a64072f5-3d9a-444a-a3d7-ea73f3f6c751",
   "metadata": {},
   "outputs": [],
   "source": [
    "# import necessary modules\n",
    "\n",
    "import os\n",
    "import glob\n",
    "import datetime\n",
    "import numpy as np\n",
    "import pandas as pd\n",
    "import geopandas as gpd\n",
    "from   datetime import timezone"
   ]
  },
  {
   "cell_type": "markdown",
   "id": "1153e53a-1d76-41e1-89b7-11fb7f67264c",
   "metadata": {},
   "source": [
    "loop over all ICESSN v2 files in a given folder and convert them to GPKG files with fractional year added"
   ]
  },
  {
   "cell_type": "code",
   "execution_count": 2,
   "id": "963fb4d4-5c18-46dc-9f09-04f80f432bf4",
   "metadata": {},
   "outputs": [
    {
     "name": "stdout",
     "output_type": "stream",
     "text": [
      "/home/jovyan/shared-public/off_track/Sierra/ATM/ILATM2_20180427_141100_smooth_nadir3seg_50pt.gpkg\n",
      "/home/jovyan/shared-public/off_track/Sierra/ATM/ILATM2_20170422_135121_smooth_nadir3seg_50pt.gpkg\n",
      "/home/jovyan/shared-public/off_track/Sierra/ATM/ILATM2_20170422_134948_smooth_nadir3seg_50pt.gpkg\n",
      "/home/jovyan/shared-public/off_track/Sierra/ATM/ILATM2_20180427_123100_smooth_nadir3seg_50pt.gpkg\n",
      "/home/jovyan/shared-public/off_track/Sierra/ATM/ILATM2_20170505_171110_smooth_nadir3seg_50pt.gpkg\n",
      "/home/jovyan/shared-public/off_track/Sierra/ATM/ILATM2_20190914_131000_smooth_nadir3seg_50pt.gpkg\n",
      "/home/jovyan/shared-public/off_track/Sierra/ATM/ILATM2_20190914_130900_smooth_nadir3seg_50pt.gpkg\n",
      "/home/jovyan/shared-public/off_track/Sierra/ATM/ILATM2_20190914_132700_smooth_nadir3seg_50pt.gpkg\n",
      "/home/jovyan/shared-public/off_track/Sierra/ATM/ILATM2_20170422_134643_smooth_nadir3seg_50pt.gpkg\n",
      "/home/jovyan/shared-public/off_track/Sierra/ATM/ILATM2_20170505_170524_smooth_nadir3seg_50pt.gpkg\n",
      "/home/jovyan/shared-public/off_track/Sierra/ATM/ILATM2_20180427_141500_smooth_nadir3seg_50pt.gpkg\n",
      "/home/jovyan/shared-public/off_track/Sierra/ATM/ILATM2_20190914_132300_smooth_nadir3seg_50pt.gpkg\n",
      "/home/jovyan/shared-public/off_track/Sierra/ATM/ILATM2_20180427_122600_smooth_nadir3seg_50pt.gpkg\n",
      "/home/jovyan/shared-public/off_track/Sierra/ATM/ILATM2_20190914_131400_smooth_nadir3seg_50pt.gpkg\n",
      "/home/jovyan/shared-public/off_track/Sierra/ATM/ILATM2_20170422_153457_smooth_nadir3seg_50pt.gpkg\n",
      "/home/jovyan/shared-public/off_track/Sierra/ATM/ILATM2_20180427_141300_smooth_nadir3seg_50pt.gpkg\n",
      "/home/jovyan/shared-public/off_track/Sierra/ATM/ILATM2_20190914_132100_smooth_nadir3seg_50pt.gpkg\n",
      "/home/jovyan/shared-public/off_track/Sierra/ATM/ILATM2_20190914_131200_smooth_nadir3seg_50pt.gpkg\n",
      "/home/jovyan/shared-public/off_track/Sierra/ATM/ILATM2_20170505_170823_smooth_nadir3seg_50pt.gpkg\n",
      "/home/jovyan/shared-public/off_track/Sierra/ATM/ILATM2_20170505_171237_smooth_nadir3seg_50pt.gpkg\n",
      "/home/jovyan/shared-public/off_track/Sierra/ATM/ILATM2_20180427_141700_smooth_nadir3seg_50pt.gpkg\n",
      "/home/jovyan/shared-public/off_track/Sierra/ATM/ILATM2_20190914_132500_smooth_nadir3seg_50pt.gpkg\n",
      "/home/jovyan/shared-public/off_track/Sierra/ATM/ILATM2_20170422_153631_smooth_nadir3seg_50pt.gpkg\n",
      "/home/jovyan/shared-public/off_track/Sierra/ATM/ILATM2_20180427_122800_smooth_nadir3seg_50pt.gpkg\n",
      "/home/jovyan/shared-public/off_track/Sierra/ATM/ILATM2_20180427_141200_smooth_nadir3seg_50pt.gpkg\n",
      "/home/jovyan/shared-public/off_track/Sierra/ATM/ILATM2_20170422_153005_smooth_nadir3seg_50pt.gpkg\n",
      "/home/jovyan/shared-public/off_track/Sierra/ATM/ILATM2_20170422_134510_smooth_nadir3seg_50pt.gpkg\n",
      "/home/jovyan/shared-public/off_track/Sierra/ATM/ILATM2_20180427_123200_smooth_nadir3seg_50pt.gpkg\n",
      "/home/jovyan/shared-public/off_track/Sierra/ATM/ILATM2_20190914_131100_smooth_nadir3seg_50pt.gpkg\n",
      "/home/jovyan/shared-public/off_track/Sierra/ATM/ILATM2_20170422_134815_smooth_nadir3seg_50pt.gpkg\n",
      "/home/jovyan/shared-public/off_track/Sierra/ATM/ILATM2_20190914_132800_smooth_nadir3seg_50pt.gpkg\n",
      "/home/jovyan/shared-public/off_track/Sierra/ATM/ILATM2_20180427_141600_smooth_nadir3seg_50pt.gpkg\n",
      "/home/jovyan/shared-public/off_track/Sierra/ATM/ILATM2_20190914_132400_smooth_nadir3seg_50pt.gpkg\n",
      "/home/jovyan/shared-public/off_track/Sierra/ATM/ILATM2_20180427_122700_smooth_nadir3seg_50pt.gpkg\n",
      "/home/jovyan/shared-public/off_track/Sierra/ATM/ILATM2_20170422_153322_smooth_nadir3seg_50pt.gpkg\n",
      "/home/jovyan/shared-public/off_track/Sierra/ATM/ILATM2_20180427_141400_smooth_nadir3seg_50pt.gpkg\n",
      "/home/jovyan/shared-public/off_track/Sierra/ATM/ILATM2_20190914_132200_smooth_nadir3seg_50pt.gpkg\n",
      "/home/jovyan/shared-public/off_track/Sierra/ATM/ILATM2_20190914_131300_smooth_nadir3seg_50pt.gpkg\n",
      "/home/jovyan/shared-public/off_track/Sierra/ATM/ILATM2_20190914_132600_smooth_nadir3seg_50pt.gpkg\n",
      "/home/jovyan/shared-public/off_track/Sierra/ATM/ILATM2_20170422_153146_smooth_nadir3seg_50pt.gpkg\n",
      "/home/jovyan/shared-public/off_track/Sierra/ATM/ILATM2_20180427_122900_smooth_nadir3seg_50pt.gpkg\n",
      "/home/jovyan/shared-public/off_track/Sierra/ATM/ILATM2_20170505_170657_smooth_nadir3seg_50pt.gpkg\n",
      "/home/jovyan/shared-public/off_track/Sierra/ATM/ILATM2_20180427_123000_smooth_nadir3seg_50pt.gpkg\n",
      "/home/jovyan/shared-public/off_track/Sierra/ATM/ILATM2_20170505_170945_smooth_nadir3seg_50pt.gpkg\n"
     ]
    }
   ],
   "source": [
    "for file in glob.glob(\"/home/jovyan/shared-public/off_track/Sierra/ATM/ILATM2_*.csv\"):\n",
    "\n",
    "    f_name_gis = file.replace(\"csv\",\"gpkg\") # file name for export\n",
    "    # read ICESSN v2 ASCII csv files into dataframe \n",
    "    icessn_df = pd.read_csv(file, skiprows = 11) # use 11 for version 2\n",
    "     \n",
    "    if icessn_df.shape[1] == 11:\n",
    "        icessn_df.columns = ['sec', 'lat', 'lon', 'ele', 'slope_ns','slope_ew','rms_fit','n_pts_used','n_pts_edited','x_track_m','track_id']\n",
    "        # drop columns that are not needed for this project\n",
    "        icessn_df = icessn_df.drop(columns=['slope_ns','slope_ew','rms_fit','n_pts_used','n_pts_edited','x_track_m'])\n",
    "    \n",
    "    # need to wrap ATM longitudes to ±180° for exporting geographic coordinates \n",
    "    # 0° to 360° is not supported for GeoDataFrames\n",
    "    icessn_df[\"lon\"] = np.mod(icessn_df[\"lon\"] - 180.0, 360.0) - 180.0\n",
    "    \n",
    "    # extract survey date from ICESSN file name\n",
    "    f_parts_inp = os.path.split(file)\n",
    "    f_name_date_str = f_parts_inp[1][7:15]\n",
    "    year  = int(f_name_date_str[0:4])\n",
    "    month = int(f_name_date_str[4:6])\n",
    "    day   = int(f_name_date_str[6:8])\n",
    "    \n",
    "    # create datetime object of survey date\n",
    "    survey_date = datetime.datetime(year,month,day).replace(tzinfo=timezone.utc)\n",
    "    \n",
    "    # calculate fractional year\n",
    "    start = datetime.date(survey_date.year, 1, 1).toordinal()\n",
    "    year_length = datetime.date(survey_date.year+1, 1, 1).toordinal() - start\n",
    "    year_fractional = survey_date.year + float(survey_date.toordinal() - start) / year_length\n",
    "    \n",
    "    # populate lat lon geometry in GeoDataFrame\n",
    "    atm_gdf = gpd.GeoDataFrame(icessn_df, geometry=gpd.points_from_xy(icessn_df[\"lon\"], icessn_df[\"lat\"]))\n",
    "    \n",
    "    # add fractional year to GeoDataFrame\n",
    "    atm_gdf.insert(atm_gdf.shape[1], \"year_fractional\", year_fractional)\n",
    "    \n",
    "    # remove redundant lon lat columns\n",
    "    atm_gdf = atm_gdf.drop(columns=[\"lon\",\"lat\"])\n",
    "    \n",
    "    # set up the coordinate system\n",
    "    # EPSG:4326 WGS84 - World Geodetic System 1984, used in DGPS solutions for ATM geolocation\n",
    "    atm_gdf = atm_gdf.set_crs(\"EPSG:4326\")  #\n",
    "    \n",
    "    # export file as GeoDataPackage\n",
    "    atm_gdf.to_file(f_name_gis, driver=\"GPKG\")\n",
    "    print(f_name_gis)"
   ]
  },
  {
   "cell_type": "code",
   "execution_count": null,
   "id": "5f7a863c-ba88-4de0-96a9-9faa031321ef",
   "metadata": {},
   "outputs": [],
   "source": []
  }
 ],
 "metadata": {
  "kernelspec": {
   "display_name": "Python 3 (ipykernel)",
   "language": "python",
   "name": "python3"
  },
  "language_info": {
   "codemirror_mode": {
    "name": "ipython",
    "version": 3
   },
   "file_extension": ".py",
   "mimetype": "text/x-python",
   "name": "python",
   "nbconvert_exporter": "python",
   "pygments_lexer": "ipython3",
   "version": "3.11.9"
  }
 },
 "nbformat": 4,
 "nbformat_minor": 5
}
