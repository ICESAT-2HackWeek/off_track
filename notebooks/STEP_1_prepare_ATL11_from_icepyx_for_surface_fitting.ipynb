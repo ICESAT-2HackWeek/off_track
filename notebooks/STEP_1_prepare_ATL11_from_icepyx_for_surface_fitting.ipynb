{
 "cells": [
  {
   "cell_type": "markdown",
   "id": "6954fb63-8cd9-471a-a3d1-6275b12b89d6",
   "metadata": {},
   "source": [
    "# STEP 01: Ice Divide Project - ICESat-2 ATL11 Data Preparation for Surface Fitting \n",
    "## Download ICESat-2 ATL11 data using icepyx and prepare data for surface fitting"
   ]
  },
  {
   "cell_type": "markdown",
   "id": "4b1e8a35-6431-4bf7-bacf-e88c76087e27",
   "metadata": {},
   "source": [
    "**Summary:** this notebook includes code and instructions on how to download ICESat-2 ATL11 data using icepyx and prepare the data for surface fitting."
   ]
  },
  {
   "cell_type": "markdown",
   "id": "50aa94ea-e7cb-4b88-b60d-9993dd2c00b1",
   "metadata": {},
   "source": [
    "# Download ATL11 data inside a search polygon using icepyx"
   ]
  },
  {
   "cell_type": "markdown",
   "id": "1664b2a4-2d72-4688-8703-23f536a7f87d",
   "metadata": {},
   "source": [
    "This section of the notebook is tailored for the ICESat-2 HackWeek 2024 project \"off-track\" (https://github.com/ICESAT-2HackWeek/off_track/) and is a minor modification of the 2024 HackWeek tutorial:  \n",
    "\n",
    "https://icesat-2-2024.hackweek.io/tutorials/data_access/ICESat2_Data_Access_Tutorial.html"
   ]
  },
  {
   "cell_type": "code",
   "execution_count": 8,
   "id": "0c21c383-c171-4a02-87cf-a7d40634a1c0",
   "metadata": {},
   "outputs": [],
   "source": [
    "import json\n",
    "import icepyx as ipx\n",
    "import geopandas as gpd\n",
    "from   shapely.geometry import shape, GeometryCollection"
   ]
  },
  {
   "cell_type": "code",
   "execution_count": 9,
   "id": "02c0b4ea-79b0-4bd3-bd9a-f76ff629df3c",
   "metadata": {},
   "outputs": [
    {
     "data": {
      "text/html": [
       "<div style=\"width:100%;\"><div style=\"position:relative;width:100%;height:0;padding-bottom:60%;\"><span style=\"color:#565656\">Make this Notebook Trusted to load map: File -> Trust Notebook</span><iframe srcdoc=\"&lt;!DOCTYPE html&gt;\n",
       "&lt;html&gt;\n",
       "&lt;head&gt;\n",
       "    \n",
       "    &lt;meta http-equiv=&quot;content-type&quot; content=&quot;text/html; charset=UTF-8&quot; /&gt;\n",
       "    \n",
       "        &lt;script&gt;\n",
       "            L_NO_TOUCH = false;\n",
       "            L_DISABLE_3D = false;\n",
       "        &lt;/script&gt;\n",
       "    \n",
       "    &lt;style&gt;html, body {width: 100%;height: 100%;margin: 0;padding: 0;}&lt;/style&gt;\n",
       "    &lt;style&gt;#map {position:absolute;top:0;bottom:0;right:0;left:0;}&lt;/style&gt;\n",
       "    &lt;script src=&quot;https://cdn.jsdelivr.net/npm/leaflet@1.9.3/dist/leaflet.js&quot;&gt;&lt;/script&gt;\n",
       "    &lt;script src=&quot;https://code.jquery.com/jquery-3.7.1.min.js&quot;&gt;&lt;/script&gt;\n",
       "    &lt;script src=&quot;https://cdn.jsdelivr.net/npm/bootstrap@5.2.2/dist/js/bootstrap.bundle.min.js&quot;&gt;&lt;/script&gt;\n",
       "    &lt;script src=&quot;https://cdnjs.cloudflare.com/ajax/libs/Leaflet.awesome-markers/2.0.2/leaflet.awesome-markers.js&quot;&gt;&lt;/script&gt;\n",
       "    &lt;link rel=&quot;stylesheet&quot; href=&quot;https://cdn.jsdelivr.net/npm/leaflet@1.9.3/dist/leaflet.css&quot;/&gt;\n",
       "    &lt;link rel=&quot;stylesheet&quot; href=&quot;https://cdn.jsdelivr.net/npm/bootstrap@5.2.2/dist/css/bootstrap.min.css&quot;/&gt;\n",
       "    &lt;link rel=&quot;stylesheet&quot; href=&quot;https://netdna.bootstrapcdn.com/bootstrap/3.0.0/css/bootstrap-glyphicons.css&quot;/&gt;\n",
       "    &lt;link rel=&quot;stylesheet&quot; href=&quot;https://cdn.jsdelivr.net/npm/@fortawesome/fontawesome-free@6.2.0/css/all.min.css&quot;/&gt;\n",
       "    &lt;link rel=&quot;stylesheet&quot; href=&quot;https://cdnjs.cloudflare.com/ajax/libs/Leaflet.awesome-markers/2.0.2/leaflet.awesome-markers.css&quot;/&gt;\n",
       "    &lt;link rel=&quot;stylesheet&quot; href=&quot;https://cdn.jsdelivr.net/gh/python-visualization/folium/folium/templates/leaflet.awesome.rotate.min.css&quot;/&gt;\n",
       "    \n",
       "            &lt;meta name=&quot;viewport&quot; content=&quot;width=device-width,\n",
       "                initial-scale=1.0, maximum-scale=1.0, user-scalable=no&quot; /&gt;\n",
       "            &lt;style&gt;\n",
       "                #map_5aca14e48c96c6dee6376bcc098f196d {\n",
       "                    position: relative;\n",
       "                    width: 100.0%;\n",
       "                    height: 100.0%;\n",
       "                    left: 0.0%;\n",
       "                    top: 0.0%;\n",
       "                }\n",
       "                .leaflet-container { font-size: 1rem; }\n",
       "            &lt;/style&gt;\n",
       "        \n",
       "    \n",
       "                    &lt;style&gt;\n",
       "                        .foliumtooltip {\n",
       "                            \n",
       "                        }\n",
       "                       .foliumtooltip table{\n",
       "                            margin: auto;\n",
       "                        }\n",
       "                        .foliumtooltip tr{\n",
       "                            text-align: left;\n",
       "                        }\n",
       "                        .foliumtooltip th{\n",
       "                            padding: 2px; padding-right: 8px;\n",
       "                        }\n",
       "                    &lt;/style&gt;\n",
       "            \n",
       "&lt;/head&gt;\n",
       "&lt;body&gt;\n",
       "    \n",
       "    \n",
       "            &lt;div class=&quot;folium-map&quot; id=&quot;map_5aca14e48c96c6dee6376bcc098f196d&quot; &gt;&lt;/div&gt;\n",
       "        \n",
       "&lt;/body&gt;\n",
       "&lt;script&gt;\n",
       "    \n",
       "    \n",
       "            var map_5aca14e48c96c6dee6376bcc098f196d = L.map(\n",
       "                &quot;map_5aca14e48c96c6dee6376bcc098f196d&quot;,\n",
       "                {\n",
       "                    center: [78.09200330303054, -69.8289820281008],\n",
       "                    crs: L.CRS.EPSG3857,\n",
       "                    zoom: 10,\n",
       "                    zoomControl: true,\n",
       "                    preferCanvas: false,\n",
       "                }\n",
       "            );\n",
       "            L.control.scale().addTo(map_5aca14e48c96c6dee6376bcc098f196d);\n",
       "\n",
       "            \n",
       "\n",
       "        \n",
       "    \n",
       "            var tile_layer_4ad8ceebbe3b73521bb4007d2205be6e = L.tileLayer(\n",
       "                &quot;https://tile.openstreetmap.org/{z}/{x}/{y}.png&quot;,\n",
       "                {&quot;attribution&quot;: &quot;\\u0026copy; \\u003ca href=\\&quot;https://www.openstreetmap.org/copyright\\&quot;\\u003eOpenStreetMap\\u003c/a\\u003e contributors&quot;, &quot;detectRetina&quot;: false, &quot;maxNativeZoom&quot;: 19, &quot;maxZoom&quot;: 19, &quot;minZoom&quot;: 0, &quot;noWrap&quot;: false, &quot;opacity&quot;: 1, &quot;subdomains&quot;: &quot;abc&quot;, &quot;tms&quot;: false}\n",
       "            );\n",
       "        \n",
       "    \n",
       "            tile_layer_4ad8ceebbe3b73521bb4007d2205be6e.addTo(map_5aca14e48c96c6dee6376bcc098f196d);\n",
       "        \n",
       "    \n",
       "            map_5aca14e48c96c6dee6376bcc098f196d.fitBounds(\n",
       "                [[77.970729027503, -70.41654696727473], [78.21327757855809, -69.24141708892685]],\n",
       "                {}\n",
       "            );\n",
       "        \n",
       "    \n",
       "        function geo_json_296267a7cabb27b152467dafa07385b6_styler(feature) {\n",
       "            switch(feature.id) {\n",
       "                default:\n",
       "                    return {&quot;fillOpacity&quot;: 0.5, &quot;weight&quot;: 2};\n",
       "            }\n",
       "        }\n",
       "        function geo_json_296267a7cabb27b152467dafa07385b6_highlighter(feature) {\n",
       "            switch(feature.id) {\n",
       "                default:\n",
       "                    return {&quot;fillOpacity&quot;: 0.75};\n",
       "            }\n",
       "        }\n",
       "        function geo_json_296267a7cabb27b152467dafa07385b6_pointToLayer(feature, latlng) {\n",
       "            var opts = {&quot;bubblingMouseEvents&quot;: true, &quot;color&quot;: &quot;#3388ff&quot;, &quot;dashArray&quot;: null, &quot;dashOffset&quot;: null, &quot;fill&quot;: true, &quot;fillColor&quot;: &quot;#3388ff&quot;, &quot;fillOpacity&quot;: 0.2, &quot;fillRule&quot;: &quot;evenodd&quot;, &quot;lineCap&quot;: &quot;round&quot;, &quot;lineJoin&quot;: &quot;round&quot;, &quot;opacity&quot;: 1.0, &quot;radius&quot;: 2, &quot;stroke&quot;: true, &quot;weight&quot;: 3};\n",
       "            \n",
       "            let style = geo_json_296267a7cabb27b152467dafa07385b6_styler(feature)\n",
       "            Object.assign(opts, style)\n",
       "            \n",
       "            return new L.CircleMarker(latlng, opts)\n",
       "        }\n",
       "\n",
       "        function geo_json_296267a7cabb27b152467dafa07385b6_onEachFeature(feature, layer) {\n",
       "            layer.on({\n",
       "                mouseout: function(e) {\n",
       "                    if(typeof e.target.setStyle === &quot;function&quot;){\n",
       "                            geo_json_296267a7cabb27b152467dafa07385b6.resetStyle(e.target);\n",
       "                    }\n",
       "                },\n",
       "                mouseover: function(e) {\n",
       "                    if(typeof e.target.setStyle === &quot;function&quot;){\n",
       "                        const highlightStyle = geo_json_296267a7cabb27b152467dafa07385b6_highlighter(e.target.feature)\n",
       "                        e.target.setStyle(highlightStyle);\n",
       "                    }\n",
       "                },\n",
       "            });\n",
       "        };\n",
       "        var geo_json_296267a7cabb27b152467dafa07385b6 = L.geoJson(null, {\n",
       "                onEachFeature: geo_json_296267a7cabb27b152467dafa07385b6_onEachFeature,\n",
       "            \n",
       "                style: geo_json_296267a7cabb27b152467dafa07385b6_styler,\n",
       "                pointToLayer: geo_json_296267a7cabb27b152467dafa07385b6_pointToLayer,\n",
       "        });\n",
       "\n",
       "        function geo_json_296267a7cabb27b152467dafa07385b6_add (data) {\n",
       "            geo_json_296267a7cabb27b152467dafa07385b6\n",
       "                .addData(data);\n",
       "        }\n",
       "            geo_json_296267a7cabb27b152467dafa07385b6_add({&quot;bbox&quot;: [-70.41654696727473, 77.970729027503, -69.24141708892685, 78.21327757855809], &quot;features&quot;: [{&quot;bbox&quot;: [-70.41654696727473, 77.970729027503, -69.24141708892685, 78.21327757855809], &quot;geometry&quot;: {&quot;coordinates&quot;: [[[-70.41654696727473, 78.13600815916892], [-69.60865799452525, 78.21327757855809], [-69.24141708892685, 78.04690041425621], [-70.04045074643126, 77.970729027503], [-70.41654696727473, 78.13600815916892]]], &quot;type&quot;: &quot;Polygon&quot;}, &quot;id&quot;: &quot;0&quot;, &quot;properties&quot;: {}, &quot;type&quot;: &quot;Feature&quot;}], &quot;type&quot;: &quot;FeatureCollection&quot;});\n",
       "\n",
       "        \n",
       "    \n",
       "    geo_json_296267a7cabb27b152467dafa07385b6.bindTooltip(\n",
       "    function(layer){\n",
       "    let div = L.DomUtil.create(&#x27;div&#x27;);\n",
       "    \n",
       "    return div\n",
       "    }\n",
       "    ,{&quot;className&quot;: &quot;foliumtooltip&quot;, &quot;sticky&quot;: true});\n",
       "                     \n",
       "    \n",
       "            geo_json_296267a7cabb27b152467dafa07385b6.addTo(map_5aca14e48c96c6dee6376bcc098f196d);\n",
       "        \n",
       "&lt;/script&gt;\n",
       "&lt;/html&gt;\" style=\"position:absolute;width:100%;height:100%;left:0;top:0;border:none !important;\" allowfullscreen webkitallowfullscreen mozallowfullscreen></iframe></div></div>"
      ],
      "text/plain": [
       "<folium.folium.Map at 0x7f987769c190>"
      ]
     },
     "execution_count": 9,
     "metadata": {},
     "output_type": "execute_result"
    }
   ],
   "source": [
    "# read GeoJSON file outlining area of interest\n",
    "\n",
    "f_name_search = \"/home/jovyan/shared-public/off_track/michael/n_grn_prudhoe_lobe_ll.geojson\"\n",
    "\n",
    "with open(f_name_search) as f:\n",
    "    features = json.load(f)[\"features\"]\n",
    "\n",
    "grn_divide = GeometryCollection([shape(feature[\"geometry\"]).buffer(0) for feature in features])\n",
    "\n",
    "df_search = gpd.read_file(f_name_search).to_crs(3413)\n",
    "# plot search area with OpenStreetMap as basemap\n",
    "df_search.explore()\n"
   ]
  },
  {
   "cell_type": "code",
   "execution_count": 10,
   "id": "893d59ee-2143-4317-8114-820a557f0ed7",
   "metadata": {},
   "outputs": [],
   "source": [
    "# use polygon and search parameters to setup an icepyx search query\n",
    "\n",
    "short_name = 'ATL11'\n",
    "spatial_extent = list(grn_divide.bounds)\n",
    "date_range = ['2016-12-01','2024-08-20']\n",
    "region = ipx.Query(short_name, spatial_extent, date_range)"
   ]
  },
  {
   "cell_type": "code",
   "execution_count": 11,
   "id": "cd84eb88-bed2-4545-9f22-0757033f1fb4",
   "metadata": {},
   "outputs": [
    {
     "data": {
      "text/plain": [
       "[['ATL11_005403_0323_006_08.h5',\n",
       "  'ATL11_011003_0323_006_08.h5',\n",
       "  'ATL11_017103_0323_006_08.h5',\n",
       "  'ATL11_034705_0323_006_08.h5',\n",
       "  'ATL11_040805_0323_006_08.h5',\n",
       "  'ATL11_055203_0323_006_08.h5',\n",
       "  'ATL11_061303_0323_006_08.h5',\n",
       "  'ATL11_067403_0323_006_08.h5',\n",
       "  'ATL11_078905_0323_006_08.h5',\n",
       "  'ATL11_085005_0323_006_08.h5',\n",
       "  'ATL11_105503_0323_006_08.h5',\n",
       "  'ATL11_111603_0323_006_08.h5',\n",
       "  'ATL11_123105_0323_006_08.h5',\n",
       "  'ATL11_129205_0323_006_08.h5',\n",
       "  'ATL11_135305_0323_006_08.h5']]"
      ]
     },
     "execution_count": 11,
     "metadata": {},
     "output_type": "execute_result"
    }
   ],
   "source": [
    "# display if any data files, or granules, matched the search\n",
    "\n",
    "region.avail_granules(ids=True)"
   ]
  },
  {
   "cell_type": "code",
   "execution_count": 12,
   "id": "5ae7cf1c-b82b-4129-b647-093aee61fa17",
   "metadata": {},
   "outputs": [
    {
     "name": "stdout",
     "output_type": "stream",
     "text": [
      "[['ATL11_005403_0323_006_08.h5', 'ATL11_011003_0323_006_08.h5', 'ATL11_017103_0323_006_08.h5', 'ATL11_034705_0323_006_08.h5', 'ATL11_040805_0323_006_08.h5', 'ATL11_055203_0323_006_08.h5', 'ATL11_061303_0323_006_08.h5', 'ATL11_067403_0323_006_08.h5', 'ATL11_078905_0323_006_08.h5', 'ATL11_085005_0323_006_08.h5', 'ATL11_105503_0323_006_08.h5', 'ATL11_111603_0323_006_08.h5', 'ATL11_123105_0323_006_08.h5', 'ATL11_129205_0323_006_08.h5', 'ATL11_135305_0323_006_08.h5'], ['s3://nsidc-cumulus-prod-protected/ATLAS/ATL11/006/2019/03/29/ATL11_005403_0323_006_08.h5', 's3://nsidc-cumulus-prod-protected/ATLAS/ATL11/006/2019/03/29/ATL11_011003_0323_006_08.h5', 's3://nsidc-cumulus-prod-protected/ATLAS/ATL11/006/2019/03/29/ATL11_017103_0323_006_08.h5', 's3://nsidc-cumulus-prod-protected/ATLAS/ATL11/006/2019/03/29/ATL11_034705_0323_006_08.h5', 's3://nsidc-cumulus-prod-protected/ATLAS/ATL11/006/2019/03/29/ATL11_040805_0323_006_08.h5', 's3://nsidc-cumulus-prod-protected/ATLAS/ATL11/006/2019/03/29/ATL11_055203_0323_006_08.h5', 's3://nsidc-cumulus-prod-protected/ATLAS/ATL11/006/2019/03/29/ATL11_061303_0323_006_08.h5', 's3://nsidc-cumulus-prod-protected/ATLAS/ATL11/006/2019/03/29/ATL11_067403_0323_006_08.h5', 's3://nsidc-cumulus-prod-protected/ATLAS/ATL11/006/2019/03/29/ATL11_078905_0323_006_08.h5', 's3://nsidc-cumulus-prod-protected/ATLAS/ATL11/006/2019/03/29/ATL11_085005_0323_006_08.h5', 's3://nsidc-cumulus-prod-protected/ATLAS/ATL11/006/2019/03/29/ATL11_105503_0323_006_08.h5', 's3://nsidc-cumulus-prod-protected/ATLAS/ATL11/006/2019/03/29/ATL11_111603_0323_006_08.h5', 's3://nsidc-cumulus-prod-protected/ATLAS/ATL11/006/2019/03/29/ATL11_123105_0323_006_08.h5', 's3://nsidc-cumulus-prod-protected/ATLAS/ATL11/006/2019/03/29/ATL11_129205_0323_006_08.h5', 's3://nsidc-cumulus-prod-protected/ATLAS/ATL11/006/2019/03/29/ATL11_135305_0323_006_08.h5']]\n"
     ]
    }
   ],
   "source": [
    "# we can also get the S3 URLs\n",
    "\n",
    "print(region.avail_granules(ids=True, cloud=True))\n",
    "s3urls = region.avail_granules(ids=True, cloud=True)[1]"
   ]
  },
  {
   "cell_type": "code",
   "execution_count": 13,
   "id": "9a9452e1-4260-4193-99d6-0909993cab05",
   "metadata": {},
   "outputs": [
    {
     "name": "stdout",
     "output_type": "stream",
     "text": [
      "Total number of data order requests is  1  for  15  granules.\n",
      "Data request  1  of  1  is submitting to NSIDC\n",
      "order ID:  5000005738388\n",
      "Initial status of your order request at NSIDC is:  processing\n",
      "Your order status is still  processing  at NSIDC. Please continue waiting... this may take a few moments.\n",
      "Your order is: complete\n",
      "NSIDC returned these messages\n",
      "['Granule 307884311 contained no data within the spatial and/or temporal '\n",
      " 'subset constraints to be processed']\n",
      "Beginning download of zipped output...\n",
      "Data request 5000005738388 of  1  order(s) is downloaded.\n",
      "Download complete\n"
     ]
    }
   ],
   "source": [
    "# download the granules into a folder on CryoCloud\n",
    "\n",
    "region.download_granules('/home/jovyan/shared-public/off_track/michael/ATL11/n_grn')"
   ]
  },
  {
   "cell_type": "code",
   "execution_count": null,
   "id": "1eea967d-a364-49ac-8355-61d231c7272b",
   "metadata": {},
   "outputs": [],
   "source": []
  }
 ],
 "metadata": {
  "kernelspec": {
   "display_name": "Python 3 (ipykernel)",
   "language": "python",
   "name": "python3"
  },
  "language_info": {
   "codemirror_mode": {
    "name": "ipython",
    "version": 3
   },
   "file_extension": ".py",
   "mimetype": "text/x-python",
   "name": "python",
   "nbconvert_exporter": "python",
   "pygments_lexer": "ipython3",
   "version": "3.11.9"
  }
 },
 "nbformat": 4,
 "nbformat_minor": 5
}
