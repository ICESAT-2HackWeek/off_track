{
 "cells": [
  {
   "cell_type": "markdown",
   "id": "50aa94ea-e7cb-4b88-b60d-9993dd2c00b1",
   "metadata": {},
   "source": [
    "# Download ATL11 data inside a polygon using icepyx"
   ]
  },
  {
   "cell_type": "markdown",
   "id": "1664b2a4-2d72-4688-8703-23f536a7f87d",
   "metadata": {},
   "source": [
    "This notebook is tailored for the ICESat-2 HackWeek 2024 project \"off-track\" (https://github.com/ICESAT-2HackWeek/off_track/) and is a minor modification of the 2024 HackWeek tutorial:  \n",
    "\n",
    "https://icesat-2-2024.hackweek.io/tutorials/data_access/ICESat2_Data_Access_Tutorial.html"
   ]
  },
  {
   "cell_type": "code",
   "execution_count": 8,
   "id": "0c21c383-c171-4a02-87cf-a7d40634a1c0",
   "metadata": {},
   "outputs": [],
   "source": [
    "import json\n",
    "import icepyx as ipx\n",
    "from shapely.geometry import shape, GeometryCollection"
   ]
  },
  {
   "cell_type": "code",
   "execution_count": 9,
   "id": "02c0b4ea-79b0-4bd3-bd9a-f76ff629df3c",
   "metadata": {},
   "outputs": [
    {
     "data": {
      "image/svg+xml": [
       "<svg xmlns=\"http://www.w3.org/2000/svg\" xmlns:xlink=\"http://www.w3.org/1999/xlink\" width=\"100.0\" height=\"100.0\" viewBox=\"-70.46355216240865 77.92372383236908 1.2691402686157147 0.3365589413229344\" preserveAspectRatio=\"xMinYMin meet\"><g transform=\"matrix(1,0,0,-1,0,156.18400660606108)\"><g><path fill-rule=\"evenodd\" fill=\"#66cc99\" stroke=\"#555555\" stroke-width=\"0.025382805372314295\" opacity=\"0.6\" d=\"M -70.41654696727473,78.13600815916892 L -69.60865799452525,78.21327757855809 L -69.24141708892685,78.04690041425621 L -70.04045074643126,77.970729027503 L -70.41654696727473,78.13600815916892 z\" /></g></g></svg>"
      ],
      "text/plain": [
       "<GEOMETRYCOLLECTION (POLYGON ((-70.417 78.136, -69.609 78.213, -69.241 78.04...>"
      ]
     },
     "execution_count": 9,
     "metadata": {},
     "output_type": "execute_result"
    }
   ],
   "source": [
    "# read GeoJSON file outlining area of interest\n",
    "\n",
    "with open(\"/home/jovyan/shared-public/off_track/michael/n_grn_prudhoe_lobe_ll.geojson\") as f:\n",
    "    features = json.load(f)[\"features\"]\n",
    "\n",
    "grn_divide = GeometryCollection([shape(feature[\"geometry\"]).buffer(0) for feature in features])\n",
    "grn_divide"
   ]
  },
  {
   "cell_type": "code",
   "execution_count": 10,
   "id": "893d59ee-2143-4317-8114-820a557f0ed7",
   "metadata": {},
   "outputs": [],
   "source": [
    "# use polygon and search parameters to setup an icepyx search query\n",
    "\n",
    "short_name = 'ATL11'\n",
    "spatial_extent = list(grn_divide.bounds)\n",
    "date_range = ['2016-12-01','2024-08-20']\n",
    "region = ipx.Query(short_name, spatial_extent, date_range)"
   ]
  },
  {
   "cell_type": "code",
   "execution_count": 11,
   "id": "cd84eb88-bed2-4545-9f22-0757033f1fb4",
   "metadata": {},
   "outputs": [
    {
     "data": {
      "text/plain": [
       "[['ATL11_005403_0323_006_08.h5',\n",
       "  'ATL11_011003_0323_006_08.h5',\n",
       "  'ATL11_017103_0323_006_08.h5',\n",
       "  'ATL11_034705_0323_006_08.h5',\n",
       "  'ATL11_040805_0323_006_08.h5',\n",
       "  'ATL11_055203_0323_006_08.h5',\n",
       "  'ATL11_061303_0323_006_08.h5',\n",
       "  'ATL11_067403_0323_006_08.h5',\n",
       "  'ATL11_078905_0323_006_08.h5',\n",
       "  'ATL11_085005_0323_006_08.h5',\n",
       "  'ATL11_105503_0323_006_08.h5',\n",
       "  'ATL11_111603_0323_006_08.h5',\n",
       "  'ATL11_123105_0323_006_08.h5',\n",
       "  'ATL11_129205_0323_006_08.h5',\n",
       "  'ATL11_135305_0323_006_08.h5']]"
      ]
     },
     "execution_count": 11,
     "metadata": {},
     "output_type": "execute_result"
    }
   ],
   "source": [
    "# display if any data files, or granules, matched the search\n",
    "\n",
    "region.avail_granules(ids=True)"
   ]
  },
  {
   "cell_type": "code",
   "execution_count": 12,
   "id": "5ae7cf1c-b82b-4129-b647-093aee61fa17",
   "metadata": {},
   "outputs": [
    {
     "name": "stdout",
     "output_type": "stream",
     "text": [
      "[['ATL11_005403_0323_006_08.h5', 'ATL11_011003_0323_006_08.h5', 'ATL11_017103_0323_006_08.h5', 'ATL11_034705_0323_006_08.h5', 'ATL11_040805_0323_006_08.h5', 'ATL11_055203_0323_006_08.h5', 'ATL11_061303_0323_006_08.h5', 'ATL11_067403_0323_006_08.h5', 'ATL11_078905_0323_006_08.h5', 'ATL11_085005_0323_006_08.h5', 'ATL11_105503_0323_006_08.h5', 'ATL11_111603_0323_006_08.h5', 'ATL11_123105_0323_006_08.h5', 'ATL11_129205_0323_006_08.h5', 'ATL11_135305_0323_006_08.h5'], ['s3://nsidc-cumulus-prod-protected/ATLAS/ATL11/006/2019/03/29/ATL11_005403_0323_006_08.h5', 's3://nsidc-cumulus-prod-protected/ATLAS/ATL11/006/2019/03/29/ATL11_011003_0323_006_08.h5', 's3://nsidc-cumulus-prod-protected/ATLAS/ATL11/006/2019/03/29/ATL11_017103_0323_006_08.h5', 's3://nsidc-cumulus-prod-protected/ATLAS/ATL11/006/2019/03/29/ATL11_034705_0323_006_08.h5', 's3://nsidc-cumulus-prod-protected/ATLAS/ATL11/006/2019/03/29/ATL11_040805_0323_006_08.h5', 's3://nsidc-cumulus-prod-protected/ATLAS/ATL11/006/2019/03/29/ATL11_055203_0323_006_08.h5', 's3://nsidc-cumulus-prod-protected/ATLAS/ATL11/006/2019/03/29/ATL11_061303_0323_006_08.h5', 's3://nsidc-cumulus-prod-protected/ATLAS/ATL11/006/2019/03/29/ATL11_067403_0323_006_08.h5', 's3://nsidc-cumulus-prod-protected/ATLAS/ATL11/006/2019/03/29/ATL11_078905_0323_006_08.h5', 's3://nsidc-cumulus-prod-protected/ATLAS/ATL11/006/2019/03/29/ATL11_085005_0323_006_08.h5', 's3://nsidc-cumulus-prod-protected/ATLAS/ATL11/006/2019/03/29/ATL11_105503_0323_006_08.h5', 's3://nsidc-cumulus-prod-protected/ATLAS/ATL11/006/2019/03/29/ATL11_111603_0323_006_08.h5', 's3://nsidc-cumulus-prod-protected/ATLAS/ATL11/006/2019/03/29/ATL11_123105_0323_006_08.h5', 's3://nsidc-cumulus-prod-protected/ATLAS/ATL11/006/2019/03/29/ATL11_129205_0323_006_08.h5', 's3://nsidc-cumulus-prod-protected/ATLAS/ATL11/006/2019/03/29/ATL11_135305_0323_006_08.h5']]\n"
     ]
    }
   ],
   "source": [
    "# we can also get the S3 URLs\n",
    "\n",
    "print(region.avail_granules(ids=True, cloud=True))\n",
    "s3urls = region.avail_granules(ids=True, cloud=True)[1]"
   ]
  },
  {
   "cell_type": "code",
   "execution_count": 13,
   "id": "9a9452e1-4260-4193-99d6-0909993cab05",
   "metadata": {},
   "outputs": [
    {
     "name": "stdout",
     "output_type": "stream",
     "text": [
      "Total number of data order requests is  1  for  15  granules.\n",
      "Data request  1  of  1  is submitting to NSIDC\n",
      "order ID:  5000005736715\n",
      "Initial status of your order request at NSIDC is:  processing\n",
      "Your order status is still  processing  at NSIDC. Please continue waiting... this may take a few moments.\n",
      "Your order is: complete\n",
      "NSIDC returned these messages\n",
      "['Granule 307884311 contained no data within the spatial and/or temporal '\n",
      " 'subset constraints to be processed']\n",
      "Beginning download of zipped output...\n",
      "Data request 5000005736715 of  1  order(s) is downloaded.\n",
      "Download complete\n"
     ]
    }
   ],
   "source": [
    "# download the granules into a folder on CryoCloud\n",
    "\n",
    "region.download_granules('/home/jovyan/shared-public/off_track/michael/ATL11/n_grn')"
   ]
  },
  {
   "cell_type": "code",
   "execution_count": null,
   "id": "d1622d6d-c08e-4eca-a415-028fcdb424d8",
   "metadata": {},
   "outputs": [],
   "source": []
  }
 ],
 "metadata": {
  "kernelspec": {
   "display_name": "Python 3 (ipykernel)",
   "language": "python",
   "name": "python3"
  },
  "language_info": {
   "codemirror_mode": {
    "name": "ipython",
    "version": 3
   },
   "file_extension": ".py",
   "mimetype": "text/x-python",
   "name": "python",
   "nbconvert_exporter": "python",
   "pygments_lexer": "ipython3",
   "version": "3.11.9"
  }
 },
 "nbformat": 4,
 "nbformat_minor": 5
}
