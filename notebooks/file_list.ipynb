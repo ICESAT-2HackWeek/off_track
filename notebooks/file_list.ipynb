{
 "cells": [
  {
   "cell_type": "markdown",
   "id": "4f56b0c7-4f80-45ec-92e9-f1e62ee2b78a",
   "metadata": {},
   "source": [
    "# List of Notebooks\n",
    "\n",
    "There were three directions of work during this project which resulted in different workflows for the code in this repository.  Notebooks are in /off_track/notebooks/.  Listed here in order that the scripts should be run in each workflow.\n",
    "\n",
    "## Prudhoe Lobe Ice Divide\n",
    "1. STEP_1_prepare_ATL11_from_icepyx_for_surface_fitting.ipynb\n",
    "2. STEP_2_prepare_ATL11_from_icepyx_for_surface_fitting.ipynb\n",
    "3. fit_surface_to_grn_data.ipynb\n",
    "\n",
    "## Helheim Glacier / ATM + IceSat-2 Data Integration\n",
    "1. convert_ATM_ICESSN_toGeoDataFrame.ipynb\n",
    "2. fit_surface_to_grn_data_helheim.ipynb\n",
    "\n",
    "## Alaskan permafrost\n",
    "1. get_data_for_poly_ali.ipynb"
   ]
  },
  {
   "cell_type": "code",
   "execution_count": null,
   "id": "994b7a7b-ab8e-4edc-9705-1fe7ede44760",
   "metadata": {},
   "outputs": [],
   "source": []
  }
 ],
 "metadata": {
  "kernelspec": {
   "display_name": "off_track",
   "language": "python",
   "name": "off_track"
  },
  "language_info": {
   "codemirror_mode": {
    "name": "ipython",
    "version": 3
   },
   "file_extension": ".py",
   "mimetype": "text/x-python",
   "name": "python",
   "nbconvert_exporter": "python",
   "pygments_lexer": "ipython3",
   "version": "3.12.5"
  }
 },
 "nbformat": 4,
 "nbformat_minor": 5
}
